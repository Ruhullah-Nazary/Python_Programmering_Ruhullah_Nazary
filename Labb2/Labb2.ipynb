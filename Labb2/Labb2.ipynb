{
 "cells": [
  {
   "cell_type": "code",
   "execution_count": 46,
   "metadata": {},
   "outputs": [
    {
     "data": {
      "text/plain": [
       "Index(['Width_cm', 'Height_cm', 'Pichu-0_pikachu-1'], dtype='object')"
      ]
     },
     "execution_count": 46,
     "metadata": {},
     "output_type": "execute_result"
    }
   ],
   "source": [
    "import pandas as pa \n",
    "    \n",
    "ff = pa.read_csv(\"datapoints.txt\") #läs datan från \"datapoints.txt\" filen som är formaterat som csv.\n",
    "ff.columns = ff.columns.str.replace(\"(\", \"\").str.replace(\")\", \"\") #Rensa parenteser från kolumnnen.\n",
    "ff.columns = ff.columns.str.strip().str.replace(\" \", \"_\") # i slutet och början av kolummnen ta bort blanksteg.\n",
    "ff[\"Pichu-0_pikachu-1\"] = ff[\"label_0-pichu\"]\n",
    "ff = ff.drop([\"label_0-pichu\", \"1-pikachu\"], axis = 1) #från DataFrame ta bort specifika kolumner.\n",
    "ff.columns = ff.columns.str.capitalize()\n",
    "ff.columns"
   ]
  },
  {
   "cell_type": "code",
   "execution_count": 40,
   "metadata": {},
   "outputs": [],
   "source": [
    "zero_value = ff[ff['Pichu-0_pikachu-1']==0] #Filtrera och skapa DataFrame där kolumnnen är lika med 0\n",
    "one_value = ff[ff['Pichu-0_pikachu-1']==1]\n"
   ]
  },
  {
   "cell_type": "code",
   "execution_count": 41,
   "metadata": {},
   "outputs": [
    {
     "data": {
      "image/png": "[encoded data removed]",
      "text/plain": [
       "<Figure size 640x480 with 1 Axes>"
      ]
     },
     "metadata": {},
     "output_type": "display_data"
    }
   ],
   "source": [
    "import matplotlib.pyplot as plt\n",
    "\n",
    "plt.scatter(x = zero_value[\"Width_cm\"], y = zero_value[\"Height_cm\"], color = \"green\") #Skapa ett spridningsdiagram med funktionen plt.scatter.\n",
    "plt.scatter(x = one_value[\"Width_cm\"], y = one_value[\"Height_cm\"], color = \"black\")\n",
    "plt.show()"
   ]
  },
  {
   "cell_type": "code",
   "execution_count": 42,
   "metadata": {},
   "outputs": [
    {
     "data": {
      "text/html": [
       "<div>\n",
       "<style scoped>\n",
       "    .dataframe tbody tr th:only-of-type {\n",
       "        vertical-align: middle;\n",
       "    }\n",
       "\n",
       "    .dataframe tbody tr th {\n",
       "        vertical-align: top;\n",
       "    }\n",
       "\n",
       "    .dataframe thead th {\n",
       "        text-align: right;\n",
       "    }\n",
       "</style>\n",
       "<table border=\"1\" class=\"dataframe\">\n",
       "  <thead>\n",
       "    <tr style=\"text-align: right;\">\n",
       "      <th></th>\n",
       "      <th>width_cm</th>\n",
       "      <th>Height_cm</th>\n",
       "    </tr>\n",
       "  </thead>\n",
       "  <tbody>\n",
       "    <tr>\n",
       "      <th>1</th>\n",
       "      <td>25.0</td>\n",
       "      <td>32.0</td>\n",
       "    </tr>\n",
       "    <tr>\n",
       "      <th>2</th>\n",
       "      <td>24.2</td>\n",
       "      <td>31.5</td>\n",
       "    </tr>\n",
       "    <tr>\n",
       "      <th>3</th>\n",
       "      <td>22.0</td>\n",
       "      <td>34.0</td>\n",
       "    </tr>\n",
       "    <tr>\n",
       "      <th>4</th>\n",
       "      <td>20.5</td>\n",
       "      <td>34.0</td>\n",
       "    </tr>\n",
       "  </tbody>\n",
       "</table>\n",
       "</div>"
      ],
      "text/plain": [
       "   width_cm  Height_cm\n",
       "1      25.0       32.0\n",
       "2      24.2       31.5\n",
       "3      22.0       34.0\n",
       "4      20.5       34.0"
      ]
     },
     "execution_count": 42,
     "metadata": {},
     "output_type": "execute_result"
    }
   ],
   "source": [
    "import pandas as pd\n",
    "test_list = []\n",
    "with open(\"testpoints.txt\", \"r\") as test_file: #Öppna filen i läsläge och tilldela den till variabeln \"test_file\"\n",
    "  fil = test_file.readlines() # Läs alla rader från filen 'test_file'.\n",
    "  for line in fil:\n",
    "    test_list.append(line)\n",
    "\n",
    "test_data = pd.DataFrame(test_list, columns = [\"test_d\"]) #skapa en Pandas DataFrame.\n",
    "test_data = test_data.drop(0, axis = 0) #från DataFrameta ta bort den randen som har index 0.\n",
    "test_data [\"width_cm\"] = test_data[\"test_d\"].str.split(\"(\").str.get(1).str.split(\",\").str.get(0) #Skapa en kolumn genom att manipulera stränger i kolumnen.\n",
    "test_data [\"Height_cm\"] = test_data[\"test_d\"].str.split(\")\").str.get(0).str.split(\",\").str.get(1)\n",
    "test_data = test_data.drop(\"test_d\", axis = 1) #Ta bort den raden som har index 1 i DataFrame.\n",
    "test_data[[\"width_cm\", \"Height_cm\"]] = test_data[[\"width_cm\", \"Height_cm\"]].astype(float) #Konvertera värden till flyttal i kolumnerna i DataFrame.\n",
    "test_data"
   ]
  },
  {
   "cell_type": "code",
   "execution_count": 43,
   "metadata": {},
   "outputs": [
    {
     "name": "stdout",
     "output_type": "stream",
     "text": [
      "(25.0,32.0): classified as Pikachu\n",
      "(24.2,31.5): classified as Pikachu\n",
      "(22.0,34.0): classified as Pikachu\n",
      "(20.5,34.0): classified as Pichu\n"
     ]
    }
   ],
   "source": [
    "import numpy as np\n",
    "\n",
    "def pich_pika(wid, hie): #Funktionen definierer och tar emot två parametrar.\n",
    "    liss = []\n",
    "    for x , y in zip(ff[\"Width_cm\"], ff[\"Height_cm\"]): #Loopar över varje par värden i kolumnerna.\n",
    "        liss.append(np.sqrt(np.power(x - wid, 2) + np.power(y-hie, 2))) # med hjälp av Pythagoras sats beräknar avståndet mellan punkt (X, y)och (wide, hie)\n",
    "    minsta_lis = min(liss) #Beräknar den minsta värdet från listan\n",
    "    lis_rad = liss.index(minsta_lis) # I listan hittar indexet för det minsta värdet.\n",
    "    result = ff.loc[lis_rad, \"Pichu-0_pikachu-1\"] #Hämtar värdet från DataFrame\n",
    "    if  result == 1:\n",
    "        return \"Pikachu\"\n",
    "    else:\n",
    "        return \"Pichu\"\n",
    "\n",
    "for x, y in zip(test_data[\"width_cm\"], test_data[\"Height_cm\"]):\n",
    "    de = pich_pika(x, y)\n",
    "    print(f\"({x},{y}): classified as {de}\") #Skriver ut en formaterad sträng som visar koordinator."
   ]
  },
  {
   "cell_type": "code",
   "execution_count": 44,
   "metadata": {},
   "outputs": [
    {
     "name": "stdout",
     "output_type": "stream",
     "text": [
      "Pikachu\n"
     ]
    }
   ],
   "source": [
    "def pich_pikacho(wid, hie):\n",
    "    lis = []\n",
    "    for x , y in zip(ff[\"Width_cm\"], ff[\"Height_cm\"]): #Loopar över varje par värden i kolumnerna.\n",
    "        lis.append(np.sqrt(np.power(x- wid, 2)+ np.power(y-hie, 2)))\n",
    "    sort_all_point = sorted(lis) #med hjälp av Pythagoras sats beräknar avståndet mellan punkterna.\n",
    "    find_ten_point = sort_all_point[:10]\n",
    "    index_point = [lis.index(x) for x in find_ten_point]\n",
    "    result = ff.loc[index_point, \"Pichu-0_pikachu-1\"] #Hämtar värdet från DataFrame.\n",
    "    if  sum(result)> 5:\n",
    "        return \"Pikachu\"\n",
    "    else:\n",
    "        return \"Pichu\"\n",
    "        \n",
    "print(pich_pikacho(34, 45))"
   ]
  },
  {
   "cell_type": "code",
   "execution_count": 45,
   "metadata": {},
   "outputs": [
    {
     "name": "stdout",
     "output_type": "stream",
     "text": [
      "Pikachu\n",
      "Pikachu\n"
     ]
    }
   ],
   "source": [
    "while True: \n",
    "    try:\n",
    "       user_info = input(\"Please enter your first number\") #Ber anändaren att skriva in första numret.\n",
    "       user_info1 = input(\"Please enter your second number\")\n",
    "       user_info = user_info.replace(\",\", \".\") #Ersätter kommatecken i strängen.\n",
    "       user_info1 = user_info1.replace(\",\", \".\")\n",
    "\n",
    "       de = float(user_info) #Strängen konverteras till flyttal\n",
    "       ve = float(user_info1)\n",
    "       if de < 0 or ve < 0:\n",
    "           print(\"You have insered a negative value\")\n",
    "       else:\n",
    "           print(pich_pikacho(de, ve))\n",
    "           print(pich_pika(de, ve))\n",
    "           break\n",
    "    except ValueError: #Om användaren skriver in fel format och får \"ValueError\"\n",
    "        print(\"You have insered a wrong value\")"
   ]
  }
 ],
 "metadata": {
  "kernelspec": {
   "display_name": "Python 3",
   "language": "python",
   "name": "python3"
  },
  "language_info": {
   "codemirror_mode": {
    "name": "ipython",
    "version": 3
   },
   "file_extension": ".py",
   "mimetype": "text/x-python",
   "name": "python",
   "nbconvert_exporter": "python",
   "pygments_lexer": "ipython3",
   "version": "3.12.5"
  }
 },
 "nbformat": 4,
 "nbformat_minor": 2
}
